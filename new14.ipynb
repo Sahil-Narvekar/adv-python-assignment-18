{
 "cells": [
  {
   "cell_type": "code",
   "execution_count": null,
   "metadata": {},
   "outputs": [],
   "source": [
    "Q1. Describe the differences between text and binary files in a single paragraph."
   ]
  },
  {
   "cell_type": "code",
   "execution_count": null,
   "metadata": {},
   "outputs": [],
   "source": [
    "Text files and binary files are two types of files where binary files store data in a binary format and \n",
    "text file store data in a alphabet,numbers format. Binary files has a extension .bin whereas Text file \n",
    "has extension .txt.All files can be categorized into one of two file formats — binary or text.  While both\n",
    "binary and text files contain data stored as a series of bits (binary values of 1s and 0s), the bits in \n",
    "text files represent characters, while the bits in binary files represent custom data.\n",
    "\n",
    "Binary file can have custom file formats and the developer, who designs these custom file formats, converts\n",
    "the information, to be stored, in bits and arranges these bits in binary file so that they are well \n",
    "understood by the supporting application and when needed, can easily be read by the supporting application.\n",
    "Since binary files store data in sequential bytes, a small change in the file can corrupt the file and make\n",
    "it unreadable to the supporting application.\n",
    "\n",
    "Text files are special subset of binary files that are used to store human readable characters as a rich\n",
    "text document or plain text document. Text files also store data in sequential bytes but bits in text file \n",
    "represents characters.Text files are less prone to get corrupted as any undesired change may just show up\n",
    "once the file is opened and then can easily be removed."
   ]
  },
  {
   "cell_type": "code",
   "execution_count": null,
   "metadata": {},
   "outputs": [],
   "source": [
    "Q2. What are some scenarios where using text files will be the better option? When would you like to\n",
    "use binary files instead of text files?"
   ]
  },
  {
   "cell_type": "code",
   "execution_count": null,
   "metadata": {},
   "outputs": [],
   "source": [
    "Text files are more restrictive than binary files since they can only contain textual data. However, unlike\n",
    "binary files, they are less likely to become corrupted. While a small error in a binary file may make it \n",
    "unreadable, a small error in a text file may simply show up once the file has been opened.Since text files \n",
    "use a simple, standard format, many programs are capable of reading and editing text files. Common text \n",
    "editors include Microsoft Notepad and WordPad.\n",
    "Binary file can have custom file formats and the developer, who designs these custom file formats, converts\n",
    "the information, to be stored, in bits and arranges these bits in binary file so that they are well \n",
    "understood by the supporting application and when needed, can easily be read by the supporting application.\n",
    "One most common example of binary file is image file is .PNG or .JPG. If one requires to work with audio\n",
    ",video or image files binary files shoulbe used.Example file ending with.jpg or .png.\n",
    "Also binary files are difficult to reverse egineer which gives competitive advantage to business."
   ]
  },
  {
   "cell_type": "code",
   "execution_count": null,
   "metadata": {},
   "outputs": [],
   "source": [
    "Q3. What are some of the issues with using binary operations to read and write a Python integer\n",
    "directly to disc?"
   ]
  },
  {
   "cell_type": "code",
   "execution_count": null,
   "metadata": {},
   "outputs": [],
   "source": [
    "Integers are commonly stored using a word of memory, which is 4 bytes or 32 bits, so integers from 0 up to\n",
    "4,294,967,295 (2^32 - 1) can be stored.This does not allow for negative values, and very large integers, \n",
    "2 ^ 32 or greater, cannot be stored in a word of memory.First problem is solved by sacrificing one bit to \n",
    "indicate whether the number is positive or negative, so the range becomes -2,147,483,647 to 2,147,483,647 \n",
    "(  2^31 - 1).we cannot store very large integers, is an inherent limit to storing information on a computer\n",
    "(in finite memory) and is worth remembering when working with very large values. Solutions include: using \n",
    "more memory to store integers, e.g., two words per integer, which uses up more memory, so is less \n",
    "memory-efficient; storing integers as real numbers, which can introduce inaccuracies ; or\n",
    "using arbitrary precision arithmetic, which uses as much memory per integer as is needed, but makes \n",
    "calculations with the values slower."
   ]
  },
  {
   "cell_type": "code",
   "execution_count": null,
   "metadata": {},
   "outputs": [],
   "source": [
    "Q4. Describe a benefit of using the with keyword instead of explicitly opening a file."
   ]
  },
  {
   "cell_type": "code",
   "execution_count": null,
   "metadata": {},
   "outputs": [],
   "source": [
    "Using with means that the file will be closed as soon as you leave the block. This is beneficial because \n",
    "closing a file is something that can easily be forgotten and ties up resources that you no longer need.\n",
    "What the with statement basically does is take advantage of two new magic keywords on an object: __enter__\n",
    "and __exit__ to implement automatic cleanup (c++ destructors, .net IDisposable, etc). So what effectively \n",
    "happens is as follows:\n",
    "    \n",
    "with open(__file__, 'r') :"
   ]
  },
  {
   "cell_type": "code",
   "execution_count": null,
   "metadata": {},
   "outputs": [],
   "source": [
    "file = open(__file__, 'r')\n",
    "try:\n",
    "  #type code\n",
    "finally: file.close()"
   ]
  },
  {
   "cell_type": "code",
   "execution_count": null,
   "metadata": {},
   "outputs": [],
   "source": [
    "Q5. Does Python have the trailing newline while reading a line of text? Does Python append a\n",
    "newline when you write a line of text?"
   ]
  },
  {
   "cell_type": "code",
   "execution_count": 10,
   "metadata": {},
   "outputs": [
    {
     "name": "stdout",
     "output_type": "stream",
     "text": [
      "What is machine learning? You probably use it dozens of times\n",
      "\n",
      "a day without even knowing it. Each time you do a web search on Google or\n",
      "Bing, that works so well because their machine learning software\n",
      "\n"
     ]
    }
   ],
   "source": [
    "with open(\"C:\\\\Users\\\\Sahil\\\\3D Objects\\\\ml notes.txt\",'r') as f:\n",
    "    line1=f.readline()\n",
    "    print(line1)\n",
    "    line2=f.readline()\n",
    "    print(line2.rstrip())\n",
    "    line3=f.readline()\n",
    "    print(line3)"
   ]
  },
  {
   "cell_type": "code",
   "execution_count": null,
   "metadata": {},
   "outputs": [],
   "source": [
    "When trailing newline is stripped new line character '\\n' at the end of a string is removed. \n",
    "nd user's input will start from the place where the underscore character is. Otherwise, \n",
    "(if not 'trailing newline is stripped'), user's input will start from the new line."
   ]
  },
  {
   "cell_type": "code",
   "execution_count": 20,
   "metadata": {},
   "outputs": [
    {
     "name": "stdout",
     "output_type": "stream",
     "text": [
      "hey therehihow are you\n",
      "\n"
     ]
    }
   ],
   "source": [
    "with open(\"C:\\\\Users\\\\Sahil\\\\3D Objects\\\\ml notes1.txt\",'w') as f:\n",
    "    f.write('hey there')\n",
    "    f.write('hi')\n",
    "    f.write('how are you\\n')\n",
    "    f.write('am great')\n",
    "with open(\"C:\\\\Users\\\\Sahil\\\\3D Objects\\\\ml notes1.txt\",'r') as f:\n",
    "    line1=f.readline()\n",
    "    print(line1)"
   ]
  },
  {
   "cell_type": "code",
   "execution_count": null,
   "metadata": {},
   "outputs": [],
   "source": [
    "When we write to a file we can append a newline when you write a line of text by adding character \\n."
   ]
  },
  {
   "cell_type": "code",
   "execution_count": null,
   "metadata": {},
   "outputs": [],
   "source": [
    "Q6. What file operations enable for random-access operation?"
   ]
  },
  {
   "cell_type": "code",
   "execution_count": null,
   "metadata": {},
   "outputs": [],
   "source": [
    "seek() and tell () are used for random-acess operation."
   ]
  },
  {
   "cell_type": "code",
   "execution_count": null,
   "metadata": {},
   "outputs": [],
   "source": [
    "In Python, seek() function is used to change the position of the File Handle to a given specific position."
   ]
  },
  {
   "cell_type": "code",
   "execution_count": 87,
   "metadata": {},
   "outputs": [
    {
     "name": "stdout",
     "output_type": "stream",
     "text": [
      "\u0000\u0000\u0000\u0000\u0000\u0000\u0000\u0000\u0000\u0000\u0000\u0000\u0000\u0000\u0000\u0000\u0000\u0000\u0000\u0000This is just a text file/n used for checking the \n",
      " use of random \n",
      " access commands\n",
      "\n"
     ]
    }
   ],
   "source": [
    "with open(\"C:\\\\Users\\\\Sahil\\\\abc1.txt\",'r') as f:\n",
    "    print(text:=f.read())\n",
    "    "
   ]
  },
  {
   "cell_type": "code",
   "execution_count": 92,
   "metadata": {},
   "outputs": [
    {
     "data": {
      "application/javascript": [
       "\n",
       "        if (window._pyforest_update_imports_cell) { window._pyforest_update_imports_cell('import re'); }\n",
       "    "
      ],
      "text/plain": [
       "<IPython.core.display.Javascript object>"
      ]
     },
     "metadata": {},
     "output_type": "display_data"
    }
   ],
   "source": [
    "with open(\"C:\\\\Users\\\\Sahil\\\\abc1.txt\",'w') as f:\n",
    "    text=re.sub('file/n','file',text)\n",
    "    f.seek(0)\n",
    "    f.write(text)"
   ]
  },
  {
   "cell_type": "code",
   "execution_count": 102,
   "metadata": {},
   "outputs": [
    {
     "name": "stdout",
     "output_type": "stream",
     "text": [
      "10\n",
      "10 position of file handle\n",
      "line1 \u0000\u0000\u0000\u0000\u0000\u0000\u0000\u0000\u0000\u0000This is just a text file used for checking the \n",
      "\n",
      "58 is the length of line 1 \n",
      "69 position of file handle\n",
      "line2  use of random \n",
      "\n",
      "16 is the length of line 2 \n",
      "86 position of file handle\n",
      "line3  access commands\n",
      "\n",
      "17 is the length of line 3 \n"
     ]
    }
   ],
   "source": [
    "with open(\"C:\\\\Users\\\\Sahil\\\\abc1.txt\",'r') as f:\n",
    "    print(f.seek(10))#to move file handle to specific position\n",
    "    count=0\n",
    "    while count<=2:\n",
    "        print(f.tell(),'position of file handle')\n",
    "        print('line'+str(count+1),length:=f.readline())\n",
    "        print(len(length),'is the length of line {} '.format(count+1))\n",
    "        count+=1"
   ]
  },
  {
   "cell_type": "code",
   "execution_count": null,
   "metadata": {},
   "outputs": [],
   "source": [
    "Q7. When do you think you will use the struct package the most?"
   ]
  },
  {
   "cell_type": "code",
   "execution_count": null,
   "metadata": {},
   "outputs": [],
   "source": [
    "The struct module in Python is used to convert native Python data types such as strings and numbers into a\n",
    "string of bytes and vice versa. What this means is that users can parse binary files of data stored in C \n",
    "structs in Python.It is used mostly for handling binary data stored in files or from network connections,\n",
    "among other sources."
   ]
  },
  {
   "cell_type": "code",
   "execution_count": null,
   "metadata": {},
   "outputs": [],
   "source": [
    "Q8. When is pickling the best option?"
   ]
  },
  {
   "cell_type": "code",
   "execution_count": null,
   "metadata": {},
   "outputs": [],
   "source": [
    "Pickling allows you to serialize and de-serializing Python object structures. In short, Pickling is a way\n",
    "to convert a python object into a character stream so that this character stream contains all the\n",
    "information necessary to reconstruct the object in another python script.\n",
    "To successfully reconstruct the object, The Pickled byte stream contains instructions to the unpicker to\n",
    "reconstruct the original object structure along with instruction operands, which help in populating the \n",
    "object structure.\n",
    "\n",
    "AFter constructing a data structure if it needs to be sent to client or some other person ,that time to \n",
    "to send the it and reconstruct the object structure pickling is done.\n",
    "What pickle does is that it “serializes” the object first before writing it to file. Pickling is a way \n",
    "to convert a python object (list, dict, etc.) into a character stream."
   ]
  },
  {
   "cell_type": "code",
   "execution_count": null,
   "metadata": {},
   "outputs": [],
   "source": [
    "Q9. When will it be best to use the shelve package?"
   ]
  },
  {
   "cell_type": "code",
   "execution_count": null,
   "metadata": {},
   "outputs": [],
   "source": [
    "The shelve module implements persistent storage for arbitrary Python objects which can be pickled, using a\n",
    "dictionary-like API.\n",
    "The shelve module can be used as a simple persistent storage option for Python objects when a relational \n",
    "database is overkill. Relational databases can sometimes become complex as the amount of data grows, and\n",
    "relations between pieces of data become more complicated. Complex relational database systems may lead to\n",
    "isolated databases where the information cannot be shared from one system to another."
   ]
  },
  {
   "cell_type": "code",
   "execution_count": null,
   "metadata": {},
   "outputs": [],
   "source": [
    "Q10. What is a special restriction when using the shelve package, as opposed to using other data\n",
    "dictionaries?"
   ]
  },
  {
   "cell_type": "code",
   "execution_count": null,
   "metadata": {},
   "outputs": [],
   "source": [
    "Other dictionaries can have key as integers,float but shelve package only allows strings as keys."
   ]
  },
  {
   "cell_type": "code",
   "execution_count": 105,
   "metadata": {},
   "outputs": [
    {
     "data": {
      "text/plain": [
       "{1: 'p'}"
      ]
     },
     "execution_count": 105,
     "metadata": {},
     "output_type": "execute_result"
    }
   ],
   "source": [
    "m=dict()\n",
    "m[1]='p'\n",
    "m"
   ]
  },
  {
   "cell_type": "code",
   "execution_count": null,
   "metadata": {},
   "outputs": [],
   "source": []
  }
 ],
 "metadata": {
  "kernelspec": {
   "display_name": "Python 3",
   "language": "python",
   "name": "python3"
  },
  "language_info": {
   "codemirror_mode": {
    "name": "ipython",
    "version": 3
   },
   "file_extension": ".py",
   "mimetype": "text/x-python",
   "name": "python",
   "nbconvert_exporter": "python",
   "pygments_lexer": "ipython3",
   "version": "3.8.3"
  }
 },
 "nbformat": 4,
 "nbformat_minor": 4
}
